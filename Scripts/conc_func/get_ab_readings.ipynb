{
 "cells": [
  {
   "cell_type": "code",
   "execution_count": 4,
   "metadata": {},
   "outputs": [
    {
     "name": "stdout",
     "output_type": "stream",
     "text": [
      "WOrking\n"
     ]
    }
   ],
   "source": [
    "#!/usr/bin/env python3\n",
    "\n",
    "import re\n",
    "import os\n",
    "\n",
    "# *******************************************************************************************************************************************************************************\n",
    "# Author: Chinmay Kulkarni                                                                                                                                                      *\n",
    "# University: The University of Georgia                                                                                                                                         *\n",
    "# Code Description: This file contains the functions which will be used for getting all the required numbers from the apache benchmark output.                                  *\n",
    "# *******************************************************************************************************************************************************************************\n",
    "\n",
    "def get_required_values_from_all_ab_output(path_where_the_ab_output_files_present, appName):\n",
    "    # writing column names to the file appName_ab_readings.csv\n",
    "    with open(\"../concurrency/NANO/{0}/ab_output/{0}_ab_readings.csv\".format(appName), \"a\") as f:\n",
    "            f.write(\"Concurrency,Total_Time(seconds),Time_for_Each_Group(seconds)\\n\")\n",
    "    # read all the file names in the\n",
    "    all_files=os.listdir(path_where_the_ab_output_files_present)\n",
    "    only_txt_file_names = filter(lambda x: x[-4:] == '.txt', all_files)\n",
    "\n",
    "    for each_text_file_name in only_txt_file_names:\n",
    "        path_to_open_each_text_file=\"{0}/{1}\".format(path_where_the_ab_output_files_present, each_text_file_name)\n",
    "        with open(path_to_open_each_text_file, \"r\") as f:\n",
    "            output_data=f.readlines()\n",
    "        # Putting all the output data in a single string\n",
    "        entire_data=\"\".join(output_data)\n",
    "\n",
    "        # Now from entire data we will find \n",
    "        concurrecny_level = re.findall(r'^(Concurrency Level:)([ ]*)([0-9]{3}|[0-9]{2}?|[0-9]{1})*', entire_data, flags=re.MULTILINE)\n",
    "        time_taken_for_tests = re.findall(r'^(Time taken for tests:)([ ]*)([\\d]*[.]?[\\d]+)', entire_data, flags=re.MULTILINE)\n",
    "        complete_requests = re.findall(r'^(Complete requests:)([ ]*)([0-9]{3}|[0-9]{2}?|[0-9]{1})+', entire_data, flags=re.MULTILINE)\n",
    "        # print(\"concurrency level:{0}, time_for_tests:{1}, complete_req:{2}\".format(concurrecny_level, time_taken_for_tests, complete_requests))\n",
    "        time_taken_for_each_group = float((float(time_taken_for_tests[0][2]) * float(concurrecny_level[0][2]))/float(complete_requests[0][2]))\n",
    "        # Arranging the data in csv pattern and store them in a file in same path as output files\n",
    "        data_to_store = \"{0}, {1}, {2:.3f}\\n\".format(concurrecny_level[0][2], time_taken_for_tests[0][2], time_taken_for_each_group)\n",
    "        # appneding this data to file sorter_ab_readings.txt\n",
    "        with open(\"../concurrency/NANO/{0}/ab_output/{0}_ab_readings.csv\".format(appName), \"a\") as f:\n",
    "            f.write(data_to_store)\n",
    "\n",
    "def main():\n",
    "    # appanme = \"image-classification-alexnet-cpu\"\n",
    "    # appanme = \"image-classification-alexnet-cpu\"\n",
    "    # appanme = \"image-classification-with-cpu\"\n",
    "    # appanme = \"sentiment-analysis\"\n",
    "    appanme = \"matrix-multiplication-high\"\n",
    "    # appanme = \"iperf3\"\n",
    "    # appanme = \"image-classification-with-cuda\"\n",
    "    # appanme = \"object-classification-yolo-no-gpu\"\n",
    "    # appanme = \"image-processing-pillow\"\n",
    "    # appanme = \"floating-point-operation-cosine\"\n",
    "    # appanme = \"fast-fourier-transform\"\n",
    "#     appanme = \"matrix-multiplication-medium\"\n",
    "    # appanme = \"dd-cmd\"\n",
    "    # appanme = \"object-classification-yolo-gpu\"\n",
    "    # appanme = \"floating-point-operation-sine\"\n",
    "    # appanme = \"speech-to-text\"\n",
    "    # appanme = \"sorter\"\n",
    "    # appanme = \"image-classification-alexnet-gpu\"\n",
    "    # appanme = \"matrix-multiplication-low\"\n",
    "    # appanme = \"floating-point-operation-sqrt\"\n",
    "    print(\"WOrking\") #remove\n",
    "    path = \"../concurrency/NANO/{0}/ab_output/\".format(appanme)\n",
    "    get_required_values_from_all_ab_output(path, appanme)\n",
    "    # get_required_values_from_all_ab_output(\"./concurrency/sorter/ab_output/\", \"sorter\")\n",
    "\n",
    "if __name__=='__main__':\n",
    "    main()\n"
   ]
  },
  {
   "cell_type": "code",
   "execution_count": null,
   "metadata": {},
   "outputs": [],
   "source": []
  }
 ],
 "metadata": {
  "kernelspec": {
   "display_name": "Python 3",
   "language": "python",
   "name": "python3"
  },
  "language_info": {
   "codemirror_mode": {
    "name": "ipython",
    "version": 3
   },
   "file_extension": ".py",
   "mimetype": "text/x-python",
   "name": "python",
   "nbconvert_exporter": "python",
   "pygments_lexer": "ipython3",
   "version": "3.7.3"
  }
 },
 "nbformat": 4,
 "nbformat_minor": 2
}
